{
 "cells": [
  {
   "cell_type": "code",
   "execution_count": 64,
   "metadata": {},
   "outputs": [],
   "source": [
    "# Import the dependencies.\n",
    "import pandas as pd\n",
    "import gmaps\n",
    "import requests\n",
    "from citipy import citipy\n",
    "# Import the API key.\n",
    "\n",
    "from config import g_key\n",
    "from datetime import datetime\n",
    "import time\n"
   ]
  },
  {
   "cell_type": "code",
   "execution_count": 65,
   "metadata": {},
   "outputs": [
    {
     "data": {
      "text/html": [
       "<div>\n",
       "<style scoped>\n",
       "    .dataframe tbody tr th:only-of-type {\n",
       "        vertical-align: middle;\n",
       "    }\n",
       "\n",
       "    .dataframe tbody tr th {\n",
       "        vertical-align: top;\n",
       "    }\n",
       "\n",
       "    .dataframe thead th {\n",
       "        text-align: right;\n",
       "    }\n",
       "</style>\n",
       "<table border=\"1\" class=\"dataframe\">\n",
       "  <thead>\n",
       "    <tr style=\"text-align: right;\">\n",
       "      <th></th>\n",
       "      <th>City</th>\n",
       "      <th>Country</th>\n",
       "      <th>Max Temp</th>\n",
       "      <th>Current Description</th>\n",
       "      <th>Lat</th>\n",
       "      <th>Lng</th>\n",
       "      <th>Hotel Name</th>\n",
       "    </tr>\n",
       "    <tr>\n",
       "      <th>City_ID</th>\n",
       "      <th></th>\n",
       "      <th></th>\n",
       "      <th></th>\n",
       "      <th></th>\n",
       "      <th></th>\n",
       "      <th></th>\n",
       "      <th></th>\n",
       "    </tr>\n",
       "  </thead>\n",
       "  <tbody>\n",
       "    <tr>\n",
       "      <th>2</th>\n",
       "      <td>Brae</td>\n",
       "      <td>GB</td>\n",
       "      <td>50.00</td>\n",
       "      <td>light rain</td>\n",
       "      <td>60.40</td>\n",
       "      <td>-1.35</td>\n",
       "      <td>Busta House Hotel</td>\n",
       "    </tr>\n",
       "    <tr>\n",
       "      <th>25</th>\n",
       "      <td>Mataura</td>\n",
       "      <td>NZ</td>\n",
       "      <td>50.00</td>\n",
       "      <td>light rain</td>\n",
       "      <td>-46.19</td>\n",
       "      <td>168.86</td>\n",
       "      <td>Ellie's Villa</td>\n",
       "    </tr>\n",
       "    <tr>\n",
       "      <th>32</th>\n",
       "      <td>Kiama</td>\n",
       "      <td>AU</td>\n",
       "      <td>73.00</td>\n",
       "      <td>light rain</td>\n",
       "      <td>-34.67</td>\n",
       "      <td>150.86</td>\n",
       "      <td>The Sebel Kiama Harbourside</td>\n",
       "    </tr>\n",
       "    <tr>\n",
       "      <th>34</th>\n",
       "      <td>Sao Mateus Do Maranhao</td>\n",
       "      <td>BR</td>\n",
       "      <td>74.08</td>\n",
       "      <td>light rain</td>\n",
       "      <td>-4.04</td>\n",
       "      <td>-44.48</td>\n",
       "      <td>Pousada Pingo De Ouro</td>\n",
       "    </tr>\n",
       "    <tr>\n",
       "      <th>41</th>\n",
       "      <td>Atuona</td>\n",
       "      <td>PF</td>\n",
       "      <td>79.90</td>\n",
       "      <td>light rain</td>\n",
       "      <td>-9.80</td>\n",
       "      <td>-139.03</td>\n",
       "      <td>Villa Enata</td>\n",
       "    </tr>\n",
       "    <tr>\n",
       "      <th>48</th>\n",
       "      <td>Karratha</td>\n",
       "      <td>AU</td>\n",
       "      <td>87.49</td>\n",
       "      <td>light rain</td>\n",
       "      <td>-20.74</td>\n",
       "      <td>116.85</td>\n",
       "      <td>ibis Styles Karratha</td>\n",
       "    </tr>\n",
       "    <tr>\n",
       "      <th>59</th>\n",
       "      <td>Cayenne</td>\n",
       "      <td>GF</td>\n",
       "      <td>77.00</td>\n",
       "      <td>light rain</td>\n",
       "      <td>4.94</td>\n",
       "      <td>-52.33</td>\n",
       "      <td>Hôtel Le Dronmi</td>\n",
       "    </tr>\n",
       "    <tr>\n",
       "      <th>67</th>\n",
       "      <td>Dingle</td>\n",
       "      <td>PH</td>\n",
       "      <td>79.36</td>\n",
       "      <td>light rain</td>\n",
       "      <td>11.00</td>\n",
       "      <td>122.67</td>\n",
       "      <td>Camp Pasica</td>\n",
       "    </tr>\n",
       "    <tr>\n",
       "      <th>72</th>\n",
       "      <td>Arraial Do Cabo</td>\n",
       "      <td>BR</td>\n",
       "      <td>76.08</td>\n",
       "      <td>light rain</td>\n",
       "      <td>-22.97</td>\n",
       "      <td>-42.02</td>\n",
       "      <td>Pousada Porto Praia</td>\n",
       "    </tr>\n",
       "    <tr>\n",
       "      <th>81</th>\n",
       "      <td>Dzilam Gonzalez</td>\n",
       "      <td>MX</td>\n",
       "      <td>72.73</td>\n",
       "      <td>light rain</td>\n",
       "      <td>21.28</td>\n",
       "      <td>-88.93</td>\n",
       "      <td>Amina</td>\n",
       "    </tr>\n",
       "  </tbody>\n",
       "</table>\n",
       "</div>"
      ],
      "text/plain": [
       "                           City Country  Max Temp Current Description    Lat  \\\n",
       "City_ID                                                                        \n",
       "2                          Brae      GB     50.00          light rain  60.40   \n",
       "25                      Mataura      NZ     50.00          light rain -46.19   \n",
       "32                        Kiama      AU     73.00          light rain -34.67   \n",
       "34       Sao Mateus Do Maranhao      BR     74.08          light rain  -4.04   \n",
       "41                       Atuona      PF     79.90          light rain  -9.80   \n",
       "48                     Karratha      AU     87.49          light rain -20.74   \n",
       "59                      Cayenne      GF     77.00          light rain   4.94   \n",
       "67                       Dingle      PH     79.36          light rain  11.00   \n",
       "72              Arraial Do Cabo      BR     76.08          light rain -22.97   \n",
       "81              Dzilam Gonzalez      MX     72.73          light rain  21.28   \n",
       "\n",
       "            Lng                   Hotel Name  \n",
       "City_ID                                       \n",
       "2         -1.35            Busta House Hotel  \n",
       "25       168.86                Ellie's Villa  \n",
       "32       150.86  The Sebel Kiama Harbourside  \n",
       "34       -44.48        Pousada Pingo De Ouro  \n",
       "41      -139.03                  Villa Enata  \n",
       "48       116.85         ibis Styles Karratha  \n",
       "59       -52.33              Hôtel Le Dronmi  \n",
       "67       122.67                  Camp Pasica  \n",
       "72       -42.02          Pousada Porto Praia  \n",
       "81       -88.93                        Amina  "
      ]
     },
     "execution_count": 65,
     "metadata": {},
     "output_type": "execute_result"
    }
   ],
   "source": [
    "# Store the CSV you saved created in part one into a DataFrame.\n",
    "itineraryData_df = pd.read_csv(\"Data/WeatherPy_vacation.csv\", index_col = 0)\n",
    "itineraryData_df.head(10)"
   ]
  },
  {
   "cell_type": "code",
   "execution_count": 66,
   "metadata": {},
   "outputs": [
    {
     "data": {
      "text/html": [
       "<div>\n",
       "<style scoped>\n",
       "    .dataframe tbody tr th:only-of-type {\n",
       "        vertical-align: middle;\n",
       "    }\n",
       "\n",
       "    .dataframe tbody tr th {\n",
       "        vertical-align: top;\n",
       "    }\n",
       "\n",
       "    .dataframe thead th {\n",
       "        text-align: right;\n",
       "    }\n",
       "</style>\n",
       "<table border=\"1\" class=\"dataframe\">\n",
       "  <thead>\n",
       "    <tr style=\"text-align: right;\">\n",
       "      <th></th>\n",
       "      <th>City</th>\n",
       "      <th>Country</th>\n",
       "      <th>Max Temp</th>\n",
       "      <th>Current Description</th>\n",
       "      <th>Lat</th>\n",
       "      <th>Lng</th>\n",
       "      <th>Hotel Name</th>\n",
       "    </tr>\n",
       "    <tr>\n",
       "      <th>City_ID</th>\n",
       "      <th></th>\n",
       "      <th></th>\n",
       "      <th></th>\n",
       "      <th></th>\n",
       "      <th></th>\n",
       "      <th></th>\n",
       "      <th></th>\n",
       "    </tr>\n",
       "  </thead>\n",
       "  <tbody>\n",
       "    <tr>\n",
       "      <th>514</th>\n",
       "      <td>Nortelandia</td>\n",
       "      <td>BR</td>\n",
       "      <td>73.02</td>\n",
       "      <td>light rain</td>\n",
       "      <td>-14.45</td>\n",
       "      <td>-56.8</td>\n",
       "      <td>Hotel Karysmã</td>\n",
       "    </tr>\n",
       "  </tbody>\n",
       "</table>\n",
       "</div>"
      ],
      "text/plain": [
       "                City Country  Max Temp Current Description    Lat   Lng  \\\n",
       "City_ID                                                                   \n",
       "514      Nortelandia      BR     73.02          light rain -14.45 -56.8   \n",
       "\n",
       "            Hotel Name  \n",
       "City_ID                 \n",
       "514      Hotel Karysmã  "
      ]
     },
     "execution_count": 66,
     "metadata": {},
     "output_type": "execute_result"
    }
   ],
   "source": [
    "#filter the four picked cities we picked\n",
    "\n",
    "Nortelandia_df = itineraryData_df[itineraryData_df[\"City\"]== \"Nortelandia\"]\n",
    "Nortelandia_df"
   ]
  },
  {
   "cell_type": "code",
   "execution_count": 67,
   "metadata": {},
   "outputs": [
    {
     "data": {
      "text/html": [
       "<div>\n",
       "<style scoped>\n",
       "    .dataframe tbody tr th:only-of-type {\n",
       "        vertical-align: middle;\n",
       "    }\n",
       "\n",
       "    .dataframe tbody tr th {\n",
       "        vertical-align: top;\n",
       "    }\n",
       "\n",
       "    .dataframe thead th {\n",
       "        text-align: right;\n",
       "    }\n",
       "</style>\n",
       "<table border=\"1\" class=\"dataframe\">\n",
       "  <thead>\n",
       "    <tr style=\"text-align: right;\">\n",
       "      <th></th>\n",
       "      <th>City</th>\n",
       "      <th>Country</th>\n",
       "      <th>Max Temp</th>\n",
       "      <th>Current Description</th>\n",
       "      <th>Lat</th>\n",
       "      <th>Lng</th>\n",
       "      <th>Hotel Name</th>\n",
       "    </tr>\n",
       "    <tr>\n",
       "      <th>City_ID</th>\n",
       "      <th></th>\n",
       "      <th></th>\n",
       "      <th></th>\n",
       "      <th></th>\n",
       "      <th></th>\n",
       "      <th></th>\n",
       "      <th></th>\n",
       "    </tr>\n",
       "  </thead>\n",
       "  <tbody>\n",
       "    <tr>\n",
       "      <th>72</th>\n",
       "      <td>Arraial Do Cabo</td>\n",
       "      <td>BR</td>\n",
       "      <td>76.08</td>\n",
       "      <td>light rain</td>\n",
       "      <td>-22.97</td>\n",
       "      <td>-42.02</td>\n",
       "      <td>Pousada Porto Praia</td>\n",
       "    </tr>\n",
       "  </tbody>\n",
       "</table>\n",
       "</div>"
      ],
      "text/plain": [
       "                    City Country  Max Temp Current Description    Lat    Lng  \\\n",
       "City_ID                                                                        \n",
       "72       Arraial Do Cabo      BR     76.08          light rain -22.97 -42.02   \n",
       "\n",
       "                  Hotel Name  \n",
       "City_ID                       \n",
       "72       Pousada Porto Praia  "
      ]
     },
     "execution_count": 67,
     "metadata": {},
     "output_type": "execute_result"
    }
   ],
   "source": [
    "#filter the four picked cities we picked\n",
    "\n",
    "Arraial_df = itineraryData_df[itineraryData_df[\"City\"]== \"Arraial Do Cabo\"]\n",
    "Arraial_df"
   ]
  },
  {
   "cell_type": "code",
   "execution_count": 68,
   "metadata": {},
   "outputs": [
    {
     "data": {
      "text/html": [
       "<div>\n",
       "<style scoped>\n",
       "    .dataframe tbody tr th:only-of-type {\n",
       "        vertical-align: middle;\n",
       "    }\n",
       "\n",
       "    .dataframe tbody tr th {\n",
       "        vertical-align: top;\n",
       "    }\n",
       "\n",
       "    .dataframe thead th {\n",
       "        text-align: right;\n",
       "    }\n",
       "</style>\n",
       "<table border=\"1\" class=\"dataframe\">\n",
       "  <thead>\n",
       "    <tr style=\"text-align: right;\">\n",
       "      <th></th>\n",
       "      <th>City</th>\n",
       "      <th>Country</th>\n",
       "      <th>Max Temp</th>\n",
       "      <th>Current Description</th>\n",
       "      <th>Lat</th>\n",
       "      <th>Lng</th>\n",
       "      <th>Hotel Name</th>\n",
       "    </tr>\n",
       "    <tr>\n",
       "      <th>City_ID</th>\n",
       "      <th></th>\n",
       "      <th></th>\n",
       "      <th></th>\n",
       "      <th></th>\n",
       "      <th></th>\n",
       "      <th></th>\n",
       "      <th></th>\n",
       "    </tr>\n",
       "  </thead>\n",
       "  <tbody>\n",
       "    <tr>\n",
       "      <th>199</th>\n",
       "      <td>Nova Vicosa</td>\n",
       "      <td>BR</td>\n",
       "      <td>74.41</td>\n",
       "      <td>light rain</td>\n",
       "      <td>-17.89</td>\n",
       "      <td>-39.37</td>\n",
       "      <td>Pousada Porto do Sol</td>\n",
       "    </tr>\n",
       "  </tbody>\n",
       "</table>\n",
       "</div>"
      ],
      "text/plain": [
       "                City Country  Max Temp Current Description    Lat    Lng  \\\n",
       "City_ID                                                                    \n",
       "199      Nova Vicosa      BR     74.41          light rain -17.89 -39.37   \n",
       "\n",
       "                   Hotel Name  \n",
       "City_ID                        \n",
       "199      Pousada Porto do Sol  "
      ]
     },
     "execution_count": 68,
     "metadata": {},
     "output_type": "execute_result"
    }
   ],
   "source": [
    "#filter the four picked cities we picked\n",
    "NovaVicosa_df = itineraryData_df[itineraryData_df[\"City\"]== \"Nova Vicosa\"]\n",
    "NovaVicosa_df"
   ]
  },
  {
   "cell_type": "code",
   "execution_count": 69,
   "metadata": {},
   "outputs": [
    {
     "data": {
      "text/html": [
       "<div>\n",
       "<style scoped>\n",
       "    .dataframe tbody tr th:only-of-type {\n",
       "        vertical-align: middle;\n",
       "    }\n",
       "\n",
       "    .dataframe tbody tr th {\n",
       "        vertical-align: top;\n",
       "    }\n",
       "\n",
       "    .dataframe thead th {\n",
       "        text-align: right;\n",
       "    }\n",
       "</style>\n",
       "<table border=\"1\" class=\"dataframe\">\n",
       "  <thead>\n",
       "    <tr style=\"text-align: right;\">\n",
       "      <th></th>\n",
       "      <th>City</th>\n",
       "      <th>Country</th>\n",
       "      <th>Max Temp</th>\n",
       "      <th>Current Description</th>\n",
       "      <th>Lat</th>\n",
       "      <th>Lng</th>\n",
       "      <th>Hotel Name</th>\n",
       "    </tr>\n",
       "    <tr>\n",
       "      <th>City_ID</th>\n",
       "      <th></th>\n",
       "      <th></th>\n",
       "      <th></th>\n",
       "      <th></th>\n",
       "      <th></th>\n",
       "      <th></th>\n",
       "      <th></th>\n",
       "    </tr>\n",
       "  </thead>\n",
       "  <tbody>\n",
       "    <tr>\n",
       "      <th>215</th>\n",
       "      <td>Linhares</td>\n",
       "      <td>BR</td>\n",
       "      <td>72.95</td>\n",
       "      <td>light rain</td>\n",
       "      <td>-19.38</td>\n",
       "      <td>-40.06</td>\n",
       "      <td>Hotel Conceição</td>\n",
       "    </tr>\n",
       "  </tbody>\n",
       "</table>\n",
       "</div>"
      ],
      "text/plain": [
       "             City Country  Max Temp Current Description    Lat    Lng  \\\n",
       "City_ID                                                                 \n",
       "215      Linhares      BR     72.95          light rain -19.38 -40.06   \n",
       "\n",
       "              Hotel Name  \n",
       "City_ID                   \n",
       "215      Hotel Conceição  "
      ]
     },
     "execution_count": 69,
     "metadata": {},
     "output_type": "execute_result"
    }
   ],
   "source": [
    "Linhares_df = itineraryData_df[itineraryData_df[\"City\"]== \"Linhares\"]\n",
    "Linhares_df"
   ]
  },
  {
   "cell_type": "code",
   "execution_count": 70,
   "metadata": {},
   "outputs": [
    {
     "data": {
      "text/html": [
       "<div>\n",
       "<style scoped>\n",
       "    .dataframe tbody tr th:only-of-type {\n",
       "        vertical-align: middle;\n",
       "    }\n",
       "\n",
       "    .dataframe tbody tr th {\n",
       "        vertical-align: top;\n",
       "    }\n",
       "\n",
       "    .dataframe thead th {\n",
       "        text-align: right;\n",
       "    }\n",
       "</style>\n",
       "<table border=\"1\" class=\"dataframe\">\n",
       "  <thead>\n",
       "    <tr style=\"text-align: right;\">\n",
       "      <th></th>\n",
       "      <th>City</th>\n",
       "      <th>Country</th>\n",
       "      <th>Max Temp</th>\n",
       "      <th>Current Description</th>\n",
       "      <th>Lat</th>\n",
       "      <th>Lng</th>\n",
       "      <th>Hotel Name</th>\n",
       "    </tr>\n",
       "    <tr>\n",
       "      <th>City_ID</th>\n",
       "      <th></th>\n",
       "      <th></th>\n",
       "      <th></th>\n",
       "      <th></th>\n",
       "      <th></th>\n",
       "      <th></th>\n",
       "      <th></th>\n",
       "    </tr>\n",
       "  </thead>\n",
       "  <tbody>\n",
       "    <tr>\n",
       "      <th>72</th>\n",
       "      <td>Arraial Do Cabo</td>\n",
       "      <td>BR</td>\n",
       "      <td>76.08</td>\n",
       "      <td>light rain</td>\n",
       "      <td>-22.97</td>\n",
       "      <td>-42.02</td>\n",
       "      <td>Pousada Porto Praia</td>\n",
       "    </tr>\n",
       "    <tr>\n",
       "      <th>199</th>\n",
       "      <td>Nova Vicosa</td>\n",
       "      <td>BR</td>\n",
       "      <td>74.41</td>\n",
       "      <td>light rain</td>\n",
       "      <td>-17.89</td>\n",
       "      <td>-39.37</td>\n",
       "      <td>Pousada Porto do Sol</td>\n",
       "    </tr>\n",
       "    <tr>\n",
       "      <th>215</th>\n",
       "      <td>Linhares</td>\n",
       "      <td>BR</td>\n",
       "      <td>72.95</td>\n",
       "      <td>light rain</td>\n",
       "      <td>-19.38</td>\n",
       "      <td>-40.06</td>\n",
       "      <td>Hotel Conceição</td>\n",
       "    </tr>\n",
       "    <tr>\n",
       "      <th>514</th>\n",
       "      <td>Nortelandia</td>\n",
       "      <td>BR</td>\n",
       "      <td>73.02</td>\n",
       "      <td>light rain</td>\n",
       "      <td>-14.45</td>\n",
       "      <td>-56.80</td>\n",
       "      <td>Hotel Karysmã</td>\n",
       "    </tr>\n",
       "  </tbody>\n",
       "</table>\n",
       "</div>"
      ],
      "text/plain": [
       "                    City Country  Max Temp Current Description    Lat    Lng  \\\n",
       "City_ID                                                                        \n",
       "72       Arraial Do Cabo      BR     76.08          light rain -22.97 -42.02   \n",
       "199          Nova Vicosa      BR     74.41          light rain -17.89 -39.37   \n",
       "215             Linhares      BR     72.95          light rain -19.38 -40.06   \n",
       "514          Nortelandia      BR     73.02          light rain -14.45 -56.80   \n",
       "\n",
       "                   Hotel Name  \n",
       "City_ID                        \n",
       "72        Pousada Porto Praia  \n",
       "199      Pousada Porto do Sol  \n",
       "215           Hotel Conceição  \n",
       "514             Hotel Karysmã  "
      ]
     },
     "execution_count": 70,
     "metadata": {},
     "output_type": "execute_result"
    }
   ],
   "source": [
    "#create dataframe for the four picked cities\n",
    "pickedcities_df = itineraryData_df[itineraryData_df[\"City\"].isin([\"Nortelandia\",\"Linhares\",\"Nova Vicosa\",\"Arraial Do Cabo\"])]\n",
    "pickedcities_df"
   ]
  },
  {
   "cell_type": "code",
   "execution_count": 71,
   "metadata": {},
   "outputs": [
    {
     "data": {
      "text/plain": [
       "[(-22.97, -42.02), (-17.89, -39.37), (-19.38, -40.06), (-14.45, -56.8)]"
      ]
     },
     "execution_count": 71,
     "metadata": {},
     "output_type": "execute_result"
    }
   ],
   "source": [
    "#create longtititue and latitude pairs \n",
    "lng_lat = pickedcities_df[[\"Lat\",\"Lng\"]]\n",
    "citiesT = [tuple(x) for x in lng_lat.values]\n",
    "citiesT"
   ]
  },
  {
   "cell_type": "code",
   "execution_count": 72,
   "metadata": {},
   "outputs": [
    {
     "data": {
      "text/plain": [
       "(-14.45, -56.8)"
      ]
     },
     "execution_count": 72,
     "metadata": {},
     "output_type": "execute_result"
    }
   ],
   "source": [
    "#create lat lng values for each city using tuple \n",
    "\n",
    "Nortelandia_lat_lng = Nortelandia_df[[\"Lat\", \"Lng\"]]\n",
    "NortelandiaT = [tuple(x) for x in Nortelandia_lat_lng.values][0]\n",
    "NortelandiaT"
   ]
  },
  {
   "cell_type": "code",
   "execution_count": 73,
   "metadata": {},
   "outputs": [
    {
     "data": {
      "text/plain": [
       "(-22.97, -42.02)"
      ]
     },
     "execution_count": 73,
     "metadata": {},
     "output_type": "execute_result"
    }
   ],
   "source": [
    "#create lat lng values for each city using tuple \n",
    "\n",
    "Arraial_lat_lng = Arraial_df[[\"Lat\", \"Lng\"]]\n",
    "ArraialT = [tuple(x) for x in Arraial_lat_lng.values][0]\n",
    "ArraialT"
   ]
  },
  {
   "cell_type": "code",
   "execution_count": 74,
   "metadata": {},
   "outputs": [
    {
     "data": {
      "text/plain": [
       "(-17.89, -39.37)"
      ]
     },
     "execution_count": 74,
     "metadata": {},
     "output_type": "execute_result"
    }
   ],
   "source": [
    "#create lat lng values for each city using tuple \n",
    "NovaVicosa_lat_lng = NovaVicosa_df[[\"Lat\", \"Lng\"]]\n",
    "NovaVicosaT = [tuple(x) for x in NovaVicosa_lat_lng.values][0]\n",
    "NovaVicosaT"
   ]
  },
  {
   "cell_type": "code",
   "execution_count": 75,
   "metadata": {},
   "outputs": [
    {
     "data": {
      "text/plain": [
       "(-19.38, -40.06)"
      ]
     },
     "execution_count": 75,
     "metadata": {},
     "output_type": "execute_result"
    }
   ],
   "source": [
    "#create lat lng values for each city using tuple \n",
    "Linhares_lat_lng = Linhares_df[[\"Lat\", \"Lng\"]]\n",
    "LinharesT = [tuple(x) for x in Linhares_lat_lng.values][0]\n",
    "LinharesT"
   ]
  },
  {
   "cell_type": "code",
   "execution_count": 76,
   "metadata": {},
   "outputs": [],
   "source": [
    "# Configure gmaps to use your Google API key.\n",
    "gmaps.configure(api_key=g_key)"
   ]
  },
  {
   "cell_type": "code",
   "execution_count": 77,
   "metadata": {},
   "outputs": [
    {
     "data": {
      "application/vnd.jupyter.widget-view+json": {
       "model_id": "c5509ef158f846e0bca1d1543085ddc6",
       "version_major": 2,
       "version_minor": 0
      },
      "text/plain": [
       "Figure(layout=FigureLayout(height='420px'))"
      ]
     },
     "metadata": {},
     "output_type": "display_data"
    }
   ],
   "source": [
    "#create a direction map\n",
    "\n",
    "fig = gmaps.figure()\n",
    "#map the drive to the four picked cities \n",
    "#driving_directions = gmaps.directions_layer(ZACapeTownD, ZAPortAlfredD, waypoints=[ZAKruisfonteinD, ZAHermanusD], travel_mode='DRIVING')\n",
    "driving_directions = gmaps.directions_layer(NortelandiaT, ArraialT, waypoints=[NovaVicosaT, LinharesT], travel_mode='DRIVING')\n",
    "fig.add_layer(driving_directions)\n",
    "fig"
   ]
  },
  {
   "cell_type": "code",
   "execution_count": 78,
   "metadata": {},
   "outputs": [],
   "source": [
    "info_box_template = \"\"\"\n",
    "<dl>\n",
    "<dt>Hotel Name</dt><dd>{Hotel Name}</dd>\n",
    "<dt>City</dt><dd>{City}</dd>\n",
    "<dt>Country</dt><dd>{Country}</dd>\n",
    "<dt>Current Description</dt><dd>{Current Description} °F</dd>\n",
    "</dl>\n",
    "\"\"\""
   ]
  },
  {
   "cell_type": "code",
   "execution_count": 79,
   "metadata": {},
   "outputs": [],
   "source": [
    "# Store the DataFrame Row.\n",
    "hotels = [info_box_template.format(**row) for index, row in pickedcities_df.iterrows()]"
   ]
  },
  {
   "cell_type": "code",
   "execution_count": 80,
   "metadata": {},
   "outputs": [
    {
     "data": {
      "application/vnd.jupyter.widget-view+json": {
       "model_id": "422177b7b42c4c84842104d5fd87acc6",
       "version_major": 2,
       "version_minor": 0
      },
      "text/plain": [
       "Figure(layout=FigureLayout(height='420px'))"
      ]
     },
     "metadata": {},
     "output_type": "display_data"
    }
   ],
   "source": [
    "#set the pop-up marker for each city in the vacation itinerary\n",
    "\n",
    "\n",
    "locations = pickedcities_df[[\"Lat\", \"Lng\"]]\n",
    "\n",
    "fig = gmaps.figure(center=(30.0, 31.0), zoom_level=1.5)\n",
    "\n",
    "# Store the DataFrame Row.\n",
    "\n",
    "marker_layer = gmaps.marker_layer(locations, info_box_content= hotels)\n",
    "#fig.add_layer(heat_layer)\n",
    "fig.add_layer(marker_layer)\n",
    "\n",
    "# Call the figure to plot the data.\n",
    "fig"
   ]
  },
  {
   "cell_type": "code",
   "execution_count": null,
   "metadata": {},
   "outputs": [],
   "source": []
  }
 ],
 "metadata": {
  "kernelspec": {
   "display_name": "PythonData",
   "language": "python",
   "name": "pythondata"
  },
  "language_info": {
   "codemirror_mode": {
    "name": "ipython",
    "version": 3
   },
   "file_extension": ".py",
   "mimetype": "text/x-python",
   "name": "python",
   "nbconvert_exporter": "python",
   "pygments_lexer": "ipython3",
   "version": "3.6.9"
  }
 },
 "nbformat": 4,
 "nbformat_minor": 2
}
